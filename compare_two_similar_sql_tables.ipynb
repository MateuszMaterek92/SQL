{
 "cells": [
  {
   "cell_type": "code",
   "execution_count": null,
   "id": "5190e16b",
   "metadata": {},
   "outputs": [],
   "source": [
    "import pandas as pd\n",
    "import pyodbc\n",
    "import numpy as np\n",
    "import time\n",
    "\n",
    "table='table'\n",
    "\n",
    "sql_conn_1 = pyodbc.connect(\n",
    "    'DRIVER={SQL Server Native Client 11.0};'\n",
    "    'SERVER=server_name;DATABASE=database_name;'\n",
    "    'Trusted_Connection=yes'\n",
    ")\n",
    "\n",
    "sql_conn_2 = pyodbc.connect(\n",
    "    'DRIVER={SQL Server Native Client 11.0};'\n",
    "    'SERVER=server_name_2;DATABASE=database_name_2;'\n",
    "    'Trusted_Connection=yes'\n",
    ")\n",
    "\n",
    "query = f'''SELECT *\n",
    "      FROM database_name.{table} (NOLOCK)'''\n",
    "print('Import from first_server...')\n",
    "start = time.time()\n",
    "df_first_server = pd.read_sql(query, sql_conn_1)\n",
    "end = time.time()\n",
    "print(f'Import from first server in:{(end-start)/60} minutes' )\n",
    "print()    \n",
    "print('Import from second server...')\n",
    "start = time.time()      \n",
    "df_second_server = pd.read_sql(query, sql_conn_2)\n",
    "end = time.time()\n",
    "print(f'Import from second server in:{(end-start)/60} minutes' )\n",
    "print()\n",
    "print('Mergeing...')\n",
    "start = time.time()    \n",
    "cols = [a for a in df_first_server.columns if a not in ['ID','generationDate','client_name']]\n",
    "A = pd.merge(df_first_server,df_second_server, on='client_name', how='inner')\n",
    "end = time.time()\n",
    "print(f'Mergeing in:{(end-start)/60} minutes' )\n",
    "print()\n",
    "print('Loop...')\n",
    "start = time.time()   \n",
    "for col in cols:\n",
    "    table=A.mask(A.eq('None')).dropna(subset=[col+'_x',col+'_y'])\n",
    "    d = np.where((table[col+'_x'] != table[col+'_y']))\n",
    "    print(col,np.shape(d)[1])\n",
    "end = time.time()\n",
    "print()\n",
    "print(f'Lopp in:{(end-start)/60} minutes' )"
   ]
  }
 ],
 "metadata": {
  "kernelspec": {
   "display_name": "Python 3 (ipykernel)",
   "language": "python",
   "name": "python3"
  },
  "language_info": {
   "codemirror_mode": {
    "name": "ipython",
    "version": 3
   },
   "file_extension": ".py",
   "mimetype": "text/x-python",
   "name": "python",
   "nbconvert_exporter": "python",
   "pygments_lexer": "ipython3",
   "version": "3.8.15"
  }
 },
 "nbformat": 4,
 "nbformat_minor": 5
}
